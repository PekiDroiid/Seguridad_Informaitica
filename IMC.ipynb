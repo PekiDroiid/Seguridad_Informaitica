{
 "cells": [
  {
   "cell_type": "code",
   "execution_count": 6,
   "id": "479a3858",
   "metadata": {},
   "outputs": [
    {
     "name": "stdout",
     "output_type": "stream",
     "text": [
      "luistu IMC es :17.3 estas bajo de peso\n"
     ]
    }
   ],
   "source": [
    "def imc(nombre,peso,estatura):\n",
    "\n",
    "    resultado  = float(peso / pow(estatura,2))\n",
    "    if resultado < 18.5:\n",
    "        print(f\"{nombre}tu IMC es :{round(resultado,2)} estas bajo de peso\")\n",
    "    elif resultado in range (18.5,24.9):\n",
    "        print(f\"{nombre}tu IMC es :{round(resultado,2)} tienes un peso normal\")\n",
    "    elif resultado in range (25,29.9):\n",
    "        print(f\"{nombre}tu IMC es :{round(resultado,2)} tienes sobrepeso\")\n",
    "    else:\n",
    "        print(f\"{nombre}tu IMC es :{round(resultado,2)} estas obeso\")\n",
    "\n",
    "imc(\"luis\",50,1.70)"
   ]
  },
  {
   "cell_type": "code",
   "execution_count": null,
   "id": "3fe0ddd9",
   "metadata": {},
   "outputs": [],
   "source": []
  }
 ],
 "metadata": {
  "kernelspec": {
   "display_name": "Python 3 (ipykernel)",
   "language": "python",
   "name": "python3"
  },
  "language_info": {
   "codemirror_mode": {
    "name": "ipython",
    "version": 3
   },
   "file_extension": ".py",
   "mimetype": "text/x-python",
   "name": "python",
   "nbconvert_exporter": "python",
   "pygments_lexer": "ipython3",
   "version": "3.11.5"
  }
 },
 "nbformat": 4,
 "nbformat_minor": 5
}
